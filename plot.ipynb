{
  "cells": [
    {
      "cell_type": "markdown",
      "metadata": {
        "id": "view-in-github",
        "colab_type": "text"
      },
      "source": [
        "<a href=\"https://colab.research.google.com/github/gurselturkeri/Statistic-and-Math/blob/main/plot.ipynb\" target=\"_parent\"><img src=\"https://colab.research.google.com/assets/colab-badge.svg\" alt=\"Open In Colab\"/></a>"
      ]
    },
    {
      "cell_type": "code",
      "execution_count": 59,
      "metadata": {
        "id": "uj_oirjcF_vi"
      },
      "outputs": [],
      "source": [
        "%matplotlib inline\n",
        "import numpy as np\n",
        "import matplotlib.pyplot as plt\n",
        "import matplotlib.image as mpimg\n",
        "from PIL import Image"
      ]
    },
    {
      "cell_type": "markdown",
      "metadata": {
        "id": "DVwPFxxoF_vo"
      },
      "source": [
        "\n"
      ]
    },
    {
      "cell_type": "code",
      "execution_count": 82,
      "metadata": {
        "colab": {
          "base_uri": "https://localhost:8080/",
          "height": 295
        },
        "id": "lE0stmDgF_vt",
        "outputId": "0bd26b8d-975e-4f2c-f3a3-d77e3e02abf5"
      },
      "outputs": [
        {
          "output_type": "display_data",
          "data": {
            "text/plain": [
              "<Figure size 432x288 with 1 Axes>"
            ],
            "image/png": "[encoded data removed]"
          },
          "metadata": {
            "needs_background": "light"
          }
        }
      ],
      "source": [
        "# test sonucu elde edilen x ve y değerleri\n",
        "# zaman ve hiz değişkenlerinde tuttuk\n",
        "\n",
        "zaman = np.array([0.00, 0.81])\n",
        "hiz = np.array([10.0,0.00])\n",
        "\n",
        "fig, ax = plt.subplots()\n",
        "ax.plot(zaman, hiz, color=\"green\")\n",
        "\n",
        "ax.set_xlabel(\"Zaman (saniye)\")\n",
        "ax.set_ylabel(\"Hız (km/saat)\")\n",
        "ax.set_title(\"Frenleme - %100 Fren\")\n",
        "\n",
        "# logo ekleme kısmı\n",
        "img = Image.open(\"/content/drive/MyDrive/oret-png.png\")\n",
        "img = img.resize((100, 70))\n",
        "plt.gcf().figimage(img, 260, 170, zorder=1)\n",
        "\n",
        "plt.show()\n",
        "\n",
        "\n",
        "\n"
      ]
    },
    {
      "cell_type": "code",
      "source": [
        "from google.colab import drive\n",
        "drive.mount('/content/drive')"
      ],
      "metadata": {
        "colab": {
          "base_uri": "https://localhost:8080/"
        },
        "id": "lKDlqYgsQdy9",
        "outputId": "9c9aac48-f4f2-414b-8039-4cd8be4d09d3"
      },
      "execution_count": 49,
      "outputs": [
        {
          "output_type": "stream",
          "name": "stdout",
          "text": [
            "Mounted at /content/drive\n"
          ]
        }
      ]
    },
    {
      "cell_type": "markdown",
      "metadata": {
        "id": "qjWlizTtF_vv"
      },
      "source": [
        ".. admonition:: References\n",
        "\n",
        "   The use of the following functions, methods, classes and modules is shown\n",
        "   in this example:\n",
        "\n",
        "   - `matplotlib.pyplot.plot`\n",
        "   - `matplotlib.pyplot.ylabel`\n",
        "   - `matplotlib.pyplot.show`\n",
        "\n"
      ]
    }
  ],
  "metadata": {
    "kernelspec": {
      "display_name": "Python 3",
      "language": "python",
      "name": "python3"
    },
    "language_info": {
      "codemirror_mode": {
        "name": "ipython",
        "version": 3
      },
      "file_extension": ".py",
      "mimetype": "text/x-python",
      "name": "python",
      "nbconvert_exporter": "python",
      "pygments_lexer": "ipython3",
      "version": "3.11.0"
    },
    "colab": {
      "provenance": [],
      "include_colab_link": true
    }
  },
  "nbformat": 4,
  "nbformat_minor": 0
}